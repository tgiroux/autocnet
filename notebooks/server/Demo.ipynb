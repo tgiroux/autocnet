{
 "cells": [
  {
   "cell_type": "markdown",
   "metadata": {},
   "source": [
    "# AutoCNet Demo Notebook"
   ]
  },
  {
   "cell_type": "markdown",
   "metadata": {},
   "source": [
    "This first cell is largely book keeping and environment setup. The second line places a configuration file into the environment that provides URLs, paths, and login information for the services that AutoCNet uses, as well as information about the spatial reference system the project is going to use.\n",
    "\n",
    "Lines 4-6 get the USGS Community Sensor Model plugin loaded and ready for use.\n"
   ]
  },
  {
   "cell_type": "code",
   "execution_count": 1,
   "metadata": {},
   "outputs": [
    {
     "name": "stderr",
     "output_type": "stream",
     "text": [
      "/home/tgiroux/anaconda3/envs/autocnet/lib/python3.7/site-packages/setuptools/distutils_patch.py:26: UserWarning: Distutils was imported before Setuptools. This usage is discouraged and may exhibit undesirable behaviors or errors. Please use Setuptools' objects directly or at least import Setuptools first.\n",
      "  \"Distutils was imported before Setuptools. This usage is discouraged \"\n"
     ]
    }
   ],
   "source": [
    "import os\n",
    "os.environ['autocnet_config'] = '/home/tgiroux/.autocnet/demo.yml'\n",
    "os.environ['PROJ_LIB'] = '/home/tgiroux/anaconda3/envs/autocnet/share/proj' #point to you local environment path\n",
    "os.environ['ISISROOT'] = '/usgs/cpkgs/anaconda3_linux/envs/isis3.8.0-RC1'\n",
    "\n",
    "import ctypes\n",
    "from ctypes.util import find_library\n",
    "ctypes.CDLL(find_library('usgscsm'))\n",
    "\n",
    "from autocnet.graph.network import NetworkCandidateGraph"
   ]
  },
  {
   "cell_type": "markdown",
   "metadata": {},
   "source": [
    "The primary way to use AutoCNet is through the CandidateGraph object. In this demo, the derived, NetworkCandidateGraph is used. This object has an identical interface to the CandidateGraph. The difference lies in where the data are stored. In the CandidateGraph everything is stored in memory and all processing occurs in serial. On the NetworkCandidateGraph, data are stored in a database and processing occurs either in serial or on a compute cluster. \n",
    "\n",
    "Below, the `from_filelist` method is used to perform an initial database populate. A few things are happening here behind the scenes:\n",
    "\n",
    "* The database (name specified in the configuration file) is being created if it does not already exist. This creates all of the tables, relationships, and triggers.\n",
    "* The `images` table is being populated with metadata about the images in the file list including a lat/lon footprint.\n",
    "* The `cameras` table is being populated with a CSM compliant state string.\n",
    "\n",
    "For a one-and-done style project, this cell should be run once."
   ]
  },
  {
   "cell_type": "code",
   "execution_count": 2,
   "metadata": {},
   "outputs": [],
   "source": [
    "# First run\n",
    "import glob\n",
    "#ncg = NetworkCandidateGraph.from_filelist(glob.glob('/scratch/tgiroux/ctx_og_cubes/adam_ctx/*.cub'))\n",
    "ncg = NetworkCandidateGraph()"
   ]
  },
  {
   "cell_type": "code",
   "execution_count": 3,
   "metadata": {},
   "outputs": [
    {
     "name": "stdout",
     "output_type": "stream",
     "text": [
      "loading 1 of 71\n",
      "loading 2 of 71\n",
      "loading 3 of 71\n",
      "loading 4 of 71\n",
      "loading 5 of 71\n",
      "loading 6 of 71\n",
      "loading 7 of 71\n",
      "loading 8 of 71\n",
      "loading 9 of 71\n",
      "loading 10 of 71\n",
      "loading 11 of 71\n",
      "loading 12 of 71\n",
      "loading 13 of 71\n",
      "loading 14 of 71\n",
      "loading 15 of 71\n",
      "loading 16 of 71\n",
      "loading 17 of 71\n",
      "loading 18 of 71\n",
      "loading 19 of 71\n",
      "loading 20 of 71\n",
      "loading 21 of 71\n",
      "loading 22 of 71\n",
      "loading 23 of 71\n",
      "loading 24 of 71\n",
      "loading 25 of 71\n",
      "loading 26 of 71\n",
      "loading 27 of 71\n",
      "loading 28 of 71\n",
      "loading 29 of 71\n",
      "loading 30 of 71\n",
      "loading 31 of 71\n",
      "loading 32 of 71\n",
      "loading 33 of 71\n",
      "loading 34 of 71\n",
      "loading 35 of 71\n",
      "loading 36 of 71\n",
      "loading 37 of 71\n",
      "loading 38 of 71\n",
      "loading 39 of 71\n",
      "loading 40 of 71\n",
      "loading 41 of 71\n",
      "loading 42 of 71\n",
      "loading 43 of 71\n",
      "loading 44 of 71\n",
      "loading 45 of 71\n",
      "loading 46 of 71\n",
      "loading 47 of 71\n",
      "loading 48 of 71\n",
      "loading 49 of 71\n",
      "loading 50 of 71\n",
      "loading 51 of 71\n",
      "loading 52 of 71\n",
      "loading 53 of 71\n",
      "loading 54 of 71\n",
      "loading 55 of 71\n",
      "loading 56 of 71\n",
      "loading 57 of 71\n",
      "loading 58 of 71\n",
      "loading 59 of 71\n",
      "loading 60 of 71\n",
      "loading 61 of 71\n",
      "loading 62 of 71\n",
      "loading 63 of 71\n",
      "loading 64 of 71\n",
      "loading 65 of 71\n",
      "loading 66 of 71\n",
      "loading 67 of 71\n",
      "loading 68 of 71\n",
      "loading 69 of 71\n",
      "loading 70 of 71\n",
      "loading 71 of 71\n"
     ]
    }
   ],
   "source": [
    "ncg.config_from_file('/home/tgiroux/.autocnet/demo.yml')\n",
    "ncg.from_filelist(glob.glob('/scratch/tgiroux/ctx_og_cubes/adam_ctx/*.cub'))"
   ]
  },
  {
   "cell_type": "markdown",
   "metadata": {},
   "source": [
    "The cell below is the primary mechanism for accessing an existing project. Here, the `from_database` class method is used. This method makes a spatial query to the `images` table and builds a graph object where the nodes are images and the edges linking nodes indicate that the footprints overlap. This call makes no modifications to the database."
   ]
  },
  {
   "cell_type": "code",
   "execution_count": 4,
   "metadata": {},
   "outputs": [],
   "source": [
    "# On subsequent runs\n",
    "ncg.from_database()"
   ]
  },
  {
   "cell_type": "code",
   "execution_count": 6,
   "metadata": {},
   "outputs": [
    {
     "data": {
      "text/plain": [
       "<AxesSubplot:>"
      ]
     },
     "execution_count": 6,
     "metadata": {},
     "output_type": "execute_result"
    },
    {
     "data": {
      "image/png": "[encoded data removed]",
      "text/plain": [
       "<Figure size 432x288 with 1 Axes>"
      ]
     },
     "metadata": {
      "needs_background": "light"
     },
     "output_type": "display_data"
    }
   ],
   "source": [
    "from matplotlib import pyplot as plt\n",
    "ncg.plot()"
   ]
  },
  {
   "cell_type": "code",
   "execution_count": 10,
   "metadata": {},
   "outputs": [
    {
     "data": {
      "text/plain": [
       "NodeView(())"
      ]
     },
     "execution_count": 10,
     "metadata": {},
     "output_type": "execute_result"
    }
   ],
   "source": [
    "ncg.nodes()"
   ]
  },
  {
   "cell_type": "markdown",
   "metadata": {},
   "source": [
    "The database currently contains a populated `images` table and a populated `cameras` table. In the current pipeline style flow, we now need to compute polygons generated by the overlaps of footprints. It is within those polygons that correspondences can be found. We run two SQL queries (found in the `sql` directory).\n",
    "\n",
    "The first query computes the n-wise overlapping polygons and the second query identifies those polygons that contributed to the overlapping geometry. The picture below illustrates what the result looks like.\n",
    "\n",
    "![overlap](overlap.png)\n",
    "\n",
    "Each polygon (A, B, AB, ABC, BC) will be an independent row in the database. The `intersections` column will be populated with an array where the values in the array are the `id`s of the image that contributed to the particular overlap."
   ]
  },
  {
   "cell_type": "code",
   "execution_count": 15,
   "metadata": {
    "collapsed": true
   },
   "outputs": [],
   "source": [
    "# Run the 2 sql commands in the sql directory of the autocnet repo to compute overlaps and get the overlap arrays populates"
   ]
  },
  {
   "cell_type": "markdown",
   "metadata": {},
   "source": [
    "Once overlaps have been computed, points are placed into the overlapping geometries. This process adds points to the `points` table and measures to the `measures` table. These points and measures are synonymous with the points and measures in an ISIS control network. This code is making use of the `images` and `cameras` tables that have been previously populated."
   ]
  },
  {
   "cell_type": "code",
   "execution_count": 16,
   "metadata": {},
   "outputs": [
    {
     "ename": "AttributeError",
     "evalue": "'NoneType' object has no attribute 'Session'",
     "output_type": "error",
     "traceback": [
      "\u001b[0;31m---------------------------------------------------------------------------\u001b[0m",
      "\u001b[0;31mAttributeError\u001b[0m                            Traceback (most recent call last)",
      "\u001b[0;32m<ipython-input-16-e8f17077e6e0>\u001b[0m in \u001b[0;36m<module>\u001b[0;34m\u001b[0m\n\u001b[1;32m      3\u001b[0m \u001b[0;34m\u001b[0m\u001b[0m\n\u001b[1;32m      4\u001b[0m \u001b[0;31m# Place points\u001b[0m\u001b[0;34m\u001b[0m\u001b[0;34m\u001b[0m\u001b[0;34m\u001b[0m\u001b[0m\n\u001b[0;32m----> 5\u001b[0;31m \u001b[0mplace_points_in_overlaps\u001b[0m\u001b[0;34m(\u001b[0m\u001b[0mncg\u001b[0m\u001b[0;34m)\u001b[0m\u001b[0;34m\u001b[0m\u001b[0;34m\u001b[0m\u001b[0m\n\u001b[0m",
      "\u001b[0;32m~/repos/autocnet/autocnet/spatial/overlap.py\u001b[0m in \u001b[0;36mplace_points_in_overlaps\u001b[0;34m(size_threshold, distribute_points_kwargs, cam_type, ncg)\u001b[0m\n\u001b[1;32m     64\u001b[0m                      \u001b[0moverlaps\u001b[0m \u001b[0;32mwith\u001b[0m \u001b[0marea\u001b[0m \u001b[0;34m<=\u001b[0m \u001b[0mthis\u001b[0m \u001b[0mthreshold\u001b[0m \u001b[0mare\u001b[0m \u001b[0mignored\u001b[0m\u001b[0;34m\u001b[0m\u001b[0;34m\u001b[0m\u001b[0m\n\u001b[1;32m     65\u001b[0m     \"\"\"\n\u001b[0;32m---> 66\u001b[0;31m     \u001b[0mSession\u001b[0m \u001b[0;34m=\u001b[0m \u001b[0mncg\u001b[0m\u001b[0;34m.\u001b[0m\u001b[0mSession\u001b[0m\u001b[0;34m\u001b[0m\u001b[0;34m\u001b[0m\u001b[0m\n\u001b[0m\u001b[1;32m     67\u001b[0m     \u001b[0;32mif\u001b[0m \u001b[0;32mnot\u001b[0m \u001b[0mSession\u001b[0m\u001b[0;34m:\u001b[0m\u001b[0;34m\u001b[0m\u001b[0;34m\u001b[0m\u001b[0m\n\u001b[1;32m     68\u001b[0m         \u001b[0;32mraise\u001b[0m \u001b[0mBrokenPipeError\u001b[0m\u001b[0;34m(\u001b[0m\u001b[0;34m'This func requires a database session from a NetworkCandidateGraph.'\u001b[0m\u001b[0;34m)\u001b[0m\u001b[0;34m\u001b[0m\u001b[0;34m\u001b[0m\u001b[0m\n",
      "\u001b[0;31mAttributeError\u001b[0m: 'NoneType' object has no attribute 'Session'"
     ]
    }
   ],
   "source": [
    "# This block is used to compute the overlapping polygon components and then place points into them.\n",
    "from autocnet.spatial.overlap import place_points_in_overlaps\n",
    "\n",
    "# Place points\n",
    "place_points_in_overlaps(ncg)"
   ]
  },
  {
   "cell_type": "markdown",
   "metadata": {},
   "source": [
    "Next, the points/measures are converted to be pairwise matches between images. Instead of a point-centric representation where a point has many measures, this representation is image-to-image centric where a pair of images has some set of shared correspondences. This command results in the `matches` table being populated with the pairwise matches between edges. Using the above example, all of the points/measures placed in the overlapping ABC polygon are decomposed into matches between AB, AC, and BC. The data are identical, but the representation has changed.\n",
    "\n",
    "We do this because now we want to use classic computer vision techniques that generally operate best with pairwise representations."
   ]
  },
  {
   "cell_type": "code",
   "execution_count": null,
   "metadata": {
    "collapsed": true
   },
   "outputs": [],
   "source": [
    "# This block converts the points into matches\n",
    "for s, d, e in ncg.edges(data='data'):  # intentionally in a loop so this doesn't spawn a cluster job\n",
    "    e.network_to_matches()\n",
    "    "
   ]
  },
  {
   "cell_type": "markdown",
   "metadata": {},
   "source": [
    "Now that a pairwise representation exists, we apply a standard CV technique (computation of the fundamental matrix (F)). This operation updates the `edges` table to add the F matrix and a mask to the `masks` column indicating whether a particular match has been flagged as a blunder by the ransac procedure. This code is making use of the `matches` table that has been previously populated."
   ]
  },
  {
   "cell_type": "code",
   "execution_count": null,
   "metadata": {},
   "outputs": [],
   "source": [
    "# This block computes the fundamental matrices\n",
    "ncg.compute_fundamental_matrices(method='ransac', maskname='fundamental')"
   ]
  },
  {
   "cell_type": "markdown",
   "metadata": {},
   "source": [
    "Finally, the next three cells are a janky heuristic designed to use the F matrix to remove blunders in the `points` and `measures` tables. This is an aggregation step whereby we seek to determine if a measure should be made inactive. This code makes use of the `edges` table (`masks` column) and updates the `measures` table (`active` column).\n",
    "\n",
    "These three cells are not well integrated into the NetworkCandidateGraph and provide the best view of the type of operations happening under the hood in the previous steps."
   ]
  },
  {
   "cell_type": "code",
   "execution_count": 5,
   "metadata": {},
   "outputs": [
    {
     "ename": "NameError",
     "evalue": "name 'ncg' is not defined",
     "output_type": "error",
     "traceback": [
      "\u001b[0;31m---------------------------------------------------------------------------\u001b[0m",
      "\u001b[0;31mNameError\u001b[0m                                 Traceback (most recent call last)",
      "\u001b[0;32m<ipython-input-5-a77759d263c7>\u001b[0m in \u001b[0;36m<module>\u001b[0;34m\u001b[0m\n\u001b[1;32m      1\u001b[0m \u001b[0;31m# This block converts the points into matches\u001b[0m\u001b[0;34m\u001b[0m\u001b[0;34m\u001b[0m\u001b[0;34m\u001b[0m\u001b[0m\n\u001b[1;32m      2\u001b[0m \u001b[0mcounters\u001b[0m \u001b[0;34m=\u001b[0m \u001b[0;34m[\u001b[0m\u001b[0;34m]\u001b[0m\u001b[0;34m\u001b[0m\u001b[0;34m\u001b[0m\u001b[0m\n\u001b[0;32m----> 3\u001b[0;31m \u001b[0;32mfor\u001b[0m \u001b[0ms\u001b[0m\u001b[0;34m,\u001b[0m \u001b[0md\u001b[0m\u001b[0;34m,\u001b[0m \u001b[0me\u001b[0m \u001b[0;32min\u001b[0m \u001b[0mncg\u001b[0m\u001b[0;34m.\u001b[0m\u001b[0medges\u001b[0m\u001b[0;34m(\u001b[0m\u001b[0mdata\u001b[0m\u001b[0;34m=\u001b[0m\u001b[0;34m'data'\u001b[0m\u001b[0;34m)\u001b[0m\u001b[0;34m:\u001b[0m  \u001b[0;31m# intentionally in a loop so this doesn't spawn a cluster job\u001b[0m\u001b[0;34m\u001b[0m\u001b[0;34m\u001b[0m\u001b[0m\n\u001b[0m\u001b[1;32m      4\u001b[0m     \u001b[0mcounters\u001b[0m\u001b[0;34m.\u001b[0m\u001b[0mappend\u001b[0m\u001b[0;34m(\u001b[0m\u001b[0me\u001b[0m\u001b[0;34m.\u001b[0m\u001b[0mmask_to_counter\u001b[0m\u001b[0;34m(\u001b[0m\u001b[0;34m'fundamental'\u001b[0m\u001b[0;34m)\u001b[0m\u001b[0;34m)\u001b[0m\u001b[0;34m\u001b[0m\u001b[0;34m\u001b[0m\u001b[0m\n",
      "\u001b[0;31mNameError\u001b[0m: name 'ncg' is not defined"
     ]
    }
   ],
   "source": [
    "# This block converts the points into matches\n",
    "counters = []\n",
    "for s, d, e in ncg.edges(data='data'):  # intentionally in a loop so this doesn't spawn a cluster job\n",
    "    counters.append(e.mask_to_counter('fundamental'))"
   ]
  },
  {
   "cell_type": "code",
   "execution_count": 6,
   "metadata": {},
   "outputs": [
    {
     "ename": "ImportError",
     "evalue": "cannot import name 'Session' from 'autocnet' (/home/tgiroux/repos/autocnet/autocnet/__init__.py)",
     "output_type": "error",
     "traceback": [
      "\u001b[0;31m---------------------------------------------------------------------------\u001b[0m",
      "\u001b[0;31mImportError\u001b[0m                               Traceback (most recent call last)",
      "\u001b[0;32m<ipython-input-6-e09180837fda>\u001b[0m in \u001b[0;36m<module>\u001b[0;34m\u001b[0m\n\u001b[1;32m      1\u001b[0m \u001b[0;32mfrom\u001b[0m \u001b[0mcollections\u001b[0m \u001b[0;32mimport\u001b[0m \u001b[0mCounter\u001b[0m\u001b[0;34m\u001b[0m\u001b[0;34m\u001b[0m\u001b[0m\n\u001b[0;32m----> 2\u001b[0;31m \u001b[0;32mfrom\u001b[0m \u001b[0mautocnet\u001b[0m \u001b[0;32mimport\u001b[0m \u001b[0mSession\u001b[0m\u001b[0;34m\u001b[0m\u001b[0;34m\u001b[0m\u001b[0m\n\u001b[0m\u001b[1;32m      3\u001b[0m \u001b[0;32mfrom\u001b[0m \u001b[0mautocnet\u001b[0m\u001b[0;34m.\u001b[0m\u001b[0mio\u001b[0m\u001b[0;34m.\u001b[0m\u001b[0mdb\u001b[0m\u001b[0;34m.\u001b[0m\u001b[0mmodel\u001b[0m \u001b[0;32mimport\u001b[0m \u001b[0mMeasures\u001b[0m\u001b[0;34m\u001b[0m\u001b[0;34m\u001b[0m\u001b[0m\n\u001b[1;32m      4\u001b[0m \u001b[0;34m\u001b[0m\u001b[0m\n\u001b[1;32m      5\u001b[0m \u001b[0maggregate\u001b[0m \u001b[0;34m=\u001b[0m \u001b[0msum\u001b[0m\u001b[0;34m(\u001b[0m\u001b[0mcounters\u001b[0m\u001b[0;34m,\u001b[0m \u001b[0mCounter\u001b[0m\u001b[0;34m(\u001b[0m\u001b[0;34m)\u001b[0m\u001b[0;34m)\u001b[0m\u001b[0;34m\u001b[0m\u001b[0;34m\u001b[0m\u001b[0m\n",
      "\u001b[0;31mImportError\u001b[0m: cannot import name 'Session' from 'autocnet' (/home/tgiroux/repos/autocnet/autocnet/__init__.py)"
     ]
    }
   ],
   "source": [
    "from collections import Counter\n",
    "from autocnet import Session\n",
    "from autocnet.io.db.model import Measures\n",
    "\n",
    "aggregate = sum(counters, Counter())\n",
    "\n",
    "# Now I need to take the output here and then look in qnet to see wtf is going on. Do we have a threshold here\n",
    "# for blowing away bad stuff? If so, where? I should probably normalize all of these too based on the number of other\n",
    "# images that they exist in. In other words, count/n-images\n",
    "to_pop = []\n",
    "session = Session()\n",
    "for k, v in aggregate.items():\n",
    "    pid = session.query(Measures).filter(Measures.id == k).first().pointid\n",
    "    nimages = len(session.query(Measures).filter(Measures.pointid == pid).all())\n",
    "    outlier_ratio = v / nimages  # This is the metric to test on (maybe?) - the ratio of the # of times the measure is \n",
    "                                  # flagged as bad to the number of measures associated with the point.\n",
    "    # These are rules that are going to need testing / vetting. Are these appropriate values?\n",
    "    if outlier_ratio <= 0.5 or (outlier_ratio <= 0.5 and nimages == 2):\n",
    "        to_pop.append(k)\n",
    "    else:\n",
    "        aggregate[k] = v / len(session.query(Measures).filter(Measures.pointid == pid).all())\n",
    "for k in to_pop:\n",
    "    aggregate.pop(k)"
   ]
  },
  {
   "cell_type": "code",
   "execution_count": 7,
   "metadata": {},
   "outputs": [
    {
     "ename": "NameError",
     "evalue": "name 'Session' is not defined",
     "output_type": "error",
     "traceback": [
      "\u001b[0;31m---------------------------------------------------------------------------\u001b[0m",
      "\u001b[0;31mNameError\u001b[0m                                 Traceback (most recent call last)",
      "\u001b[0;32m<ipython-input-7-9562cd9e1552>\u001b[0m in \u001b[0;36m<module>\u001b[0;34m\u001b[0m\n\u001b[0;32m----> 1\u001b[0;31m \u001b[0msession\u001b[0m \u001b[0;34m=\u001b[0m \u001b[0mSession\u001b[0m\u001b[0;34m(\u001b[0m\u001b[0;34m)\u001b[0m\u001b[0;34m\u001b[0m\u001b[0;34m\u001b[0m\u001b[0m\n\u001b[0m\u001b[1;32m      2\u001b[0m \u001b[0mmake_inactive\u001b[0m \u001b[0;34m=\u001b[0m \u001b[0mlist\u001b[0m\u001b[0;34m(\u001b[0m\u001b[0maggregate\u001b[0m\u001b[0;34m.\u001b[0m\u001b[0mkeys\u001b[0m\u001b[0;34m(\u001b[0m\u001b[0;34m)\u001b[0m\u001b[0;34m)\u001b[0m\u001b[0;34m\u001b[0m\u001b[0;34m\u001b[0m\u001b[0m\n\u001b[1;32m      3\u001b[0m \u001b[0msession\u001b[0m\u001b[0;34m.\u001b[0m\u001b[0mquery\u001b[0m\u001b[0;34m(\u001b[0m\u001b[0mMeasures\u001b[0m\u001b[0;34m)\u001b[0m\u001b[0;34m.\u001b[0m\u001b[0mfilter\u001b[0m\u001b[0;34m(\u001b[0m\u001b[0mMeasures\u001b[0m\u001b[0;34m.\u001b[0m\u001b[0mid\u001b[0m\u001b[0;34m.\u001b[0m\u001b[0min_\u001b[0m\u001b[0;34m(\u001b[0m\u001b[0mmake_inactive\u001b[0m\u001b[0;34m)\u001b[0m\u001b[0;34m)\u001b[0m\u001b[0;34m.\u001b[0m\u001b[0mupdate\u001b[0m\u001b[0;34m(\u001b[0m\u001b[0;34m{\u001b[0m\u001b[0;34m'active'\u001b[0m\u001b[0;34m:\u001b[0m\u001b[0;32mFalse\u001b[0m\u001b[0;34m}\u001b[0m\u001b[0;34m,\u001b[0m \u001b[0msynchronize_session\u001b[0m\u001b[0;34m=\u001b[0m\u001b[0;34m'fetch'\u001b[0m\u001b[0;34m)\u001b[0m\u001b[0;34m\u001b[0m\u001b[0;34m\u001b[0m\u001b[0m\n\u001b[1;32m      4\u001b[0m \u001b[0msession\u001b[0m\u001b[0;34m.\u001b[0m\u001b[0mcommit\u001b[0m\u001b[0;34m(\u001b[0m\u001b[0;34m)\u001b[0m\u001b[0;34m\u001b[0m\u001b[0;34m\u001b[0m\u001b[0m\n",
      "\u001b[0;31mNameError\u001b[0m: name 'Session' is not defined"
     ]
    }
   ],
   "source": [
    "session = Session()\n",
    "make_inactive = list(aggregate.keys())\n",
    "session.query(Measures).filter(Measures.id.in_(make_inactive)).update({'active':False}, synchronize_session='fetch')\n",
    "session.commit()"
   ]
  },
  {
   "cell_type": "code",
   "execution_count": 8,
   "metadata": {},
   "outputs": [
    {
     "ename": "NameError",
     "evalue": "name 'ncg' is not defined",
     "output_type": "error",
     "traceback": [
      "\u001b[0;31m---------------------------------------------------------------------------\u001b[0m",
      "\u001b[0;31mNameError\u001b[0m                                 Traceback (most recent call last)",
      "\u001b[0;32m<ipython-input-8-4461bfdc7b0e>\u001b[0m in \u001b[0;36m<module>\u001b[0;34m\u001b[0m\n\u001b[0;32m----> 1\u001b[0;31m \u001b[0mncg\u001b[0m\u001b[0;34m.\u001b[0m\u001b[0mto_isis\u001b[0m\u001b[0;34m(\u001b[0m\u001b[0;34m'/scratch/jlaura/elysium_subset/demo.net'\u001b[0m\u001b[0;34m)\u001b[0m\u001b[0;34m\u001b[0m\u001b[0;34m\u001b[0m\u001b[0m\n\u001b[0m",
      "\u001b[0;31mNameError\u001b[0m: name 'ncg' is not defined"
     ]
    }
   ],
   "source": [
    "ncg.to_isis('/scratch/jlaura/elysium_subset/demo.net')"
   ]
  },
  {
   "cell_type": "code",
   "execution_count": null,
   "metadata": {
    "collapsed": true
   },
   "outputs": [],
   "source": []
  },
  {
   "cell_type": "code",
   "execution_count": null,
   "metadata": {
    "collapsed": true
   },
   "outputs": [],
   "source": []
  }
 ],
 "metadata": {
  "kernelspec": {
   "display_name": "autocnet",
   "language": "python",
   "name": "autocnet"
  },
  "language_info": {
   "codemirror_mode": {
    "name": "ipython",
    "version": 3
   },
   "file_extension": ".py",
   "mimetype": "text/x-python",
   "name": "python",
   "nbconvert_exporter": "python",
   "pygments_lexer": "ipython3",
   "version": "3.7.8"
  }
 },
 "nbformat": 4,
 "nbformat_minor": 2
}
